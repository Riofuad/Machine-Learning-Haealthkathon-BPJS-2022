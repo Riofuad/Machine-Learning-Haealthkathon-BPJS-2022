{
 "cells": [
  {
   "cell_type": "code",
   "execution_count": 1,
   "id": "4e27134a",
   "metadata": {},
   "outputs": [],
   "source": [
    "import pandas as pd"
   ]
  },
  {
   "cell_type": "code",
   "execution_count": 2,
   "id": "375aa77d",
   "metadata": {},
   "outputs": [
    {
     "name": "stderr",
     "output_type": "stream",
     "text": [
      "C:\\Users\\ASUS VIVOBOOK\\AppData\\Local\\Temp\\ipykernel_15972\\275008081.py:1: DtypeWarning: Columns (24) have mixed types. Specify dtype option on import or set low_memory=False.\n",
      "  df = pd.read_csv('df.csv')\n"
     ]
    }
   ],
   "source": [
    "df = pd.read_csv('df.csv')"
   ]
  },
  {
   "cell_type": "code",
   "execution_count": 3,
   "id": "028ffd7c",
   "metadata": {},
   "outputs": [
    {
     "data": {
      "text/html": [
       "<div>\n",
       "<style scoped>\n",
       "    .dataframe tbody tr th:only-of-type {\n",
       "        vertical-align: middle;\n",
       "    }\n",
       "\n",
       "    .dataframe tbody tr th {\n",
       "        vertical-align: top;\n",
       "    }\n",
       "\n",
       "    .dataframe thead th {\n",
       "        text-align: right;\n",
       "    }\n",
       "</style>\n",
       "<table border=\"1\" class=\"dataframe\">\n",
       "  <thead>\n",
       "    <tr style=\"text-align: right;\">\n",
       "      <th></th>\n",
       "      <th>id</th>\n",
       "      <th>id_peserta</th>\n",
       "      <th>dati2</th>\n",
       "      <th>typefaskes</th>\n",
       "      <th>usia</th>\n",
       "      <th>jenkel</th>\n",
       "      <th>pisat</th>\n",
       "      <th>tgldatang</th>\n",
       "      <th>tglpulang</th>\n",
       "      <th>jenispel</th>\n",
       "      <th>...</th>\n",
       "      <th>kelasrawat</th>\n",
       "      <th>kdsa</th>\n",
       "      <th>kdsp</th>\n",
       "      <th>kdsr</th>\n",
       "      <th>kdsi</th>\n",
       "      <th>kdsd</th>\n",
       "      <th>label</th>\n",
       "      <th>diag</th>\n",
       "      <th>levelid</th>\n",
       "      <th>proc</th>\n",
       "    </tr>\n",
       "  </thead>\n",
       "  <tbody>\n",
       "    <tr>\n",
       "      <th>0</th>\n",
       "      <td>143197</td>\n",
       "      <td>736</td>\n",
       "      <td>17</td>\n",
       "      <td>KI</td>\n",
       "      <td>46</td>\n",
       "      <td>P</td>\n",
       "      <td>1.0</td>\n",
       "      <td>2020-04-19T17:00:00.000Z</td>\n",
       "      <td>2020-04-19T17:00:00.000Z</td>\n",
       "      <td>2</td>\n",
       "      <td>...</td>\n",
       "      <td>3</td>\n",
       "      <td>None</td>\n",
       "      <td>None</td>\n",
       "      <td>None</td>\n",
       "      <td>None</td>\n",
       "      <td>None</td>\n",
       "      <td>0</td>\n",
       "      <td>A09.9</td>\n",
       "      <td>1</td>\n",
       "      <td>99.18</td>\n",
       "    </tr>\n",
       "    <tr>\n",
       "      <th>1</th>\n",
       "      <td>1057379</td>\n",
       "      <td>751</td>\n",
       "      <td>17</td>\n",
       "      <td>B</td>\n",
       "      <td>60</td>\n",
       "      <td>L</td>\n",
       "      <td>1.0</td>\n",
       "      <td>2019-10-08T17:00:00.000Z</td>\n",
       "      <td>2019-10-08T17:00:00.000Z</td>\n",
       "      <td>2</td>\n",
       "      <td>...</td>\n",
       "      <td>3</td>\n",
       "      <td>None</td>\n",
       "      <td>None</td>\n",
       "      <td>None</td>\n",
       "      <td>None</td>\n",
       "      <td>None</td>\n",
       "      <td>0</td>\n",
       "      <td>K04.1</td>\n",
       "      <td>1</td>\n",
       "      <td>87.12</td>\n",
       "    </tr>\n",
       "    <tr>\n",
       "      <th>2</th>\n",
       "      <td>1052148</td>\n",
       "      <td>1123</td>\n",
       "      <td>17</td>\n",
       "      <td>B</td>\n",
       "      <td>15</td>\n",
       "      <td>L</td>\n",
       "      <td>4.0</td>\n",
       "      <td>2019-04-11T17:00:00.000Z</td>\n",
       "      <td>2019-04-11T17:00:00.000Z</td>\n",
       "      <td>2</td>\n",
       "      <td>...</td>\n",
       "      <td>3</td>\n",
       "      <td>None</td>\n",
       "      <td>None</td>\n",
       "      <td>None</td>\n",
       "      <td>None</td>\n",
       "      <td>None</td>\n",
       "      <td>0</td>\n",
       "      <td>M25.6</td>\n",
       "      <td>1</td>\n",
       "      <td>93.34</td>\n",
       "    </tr>\n",
       "    <tr>\n",
       "      <th>3</th>\n",
       "      <td>1052148</td>\n",
       "      <td>1123</td>\n",
       "      <td>17</td>\n",
       "      <td>B</td>\n",
       "      <td>15</td>\n",
       "      <td>L</td>\n",
       "      <td>4.0</td>\n",
       "      <td>2019-04-11T17:00:00.000Z</td>\n",
       "      <td>2019-04-11T17:00:00.000Z</td>\n",
       "      <td>2</td>\n",
       "      <td>...</td>\n",
       "      <td>3</td>\n",
       "      <td>None</td>\n",
       "      <td>None</td>\n",
       "      <td>None</td>\n",
       "      <td>None</td>\n",
       "      <td>None</td>\n",
       "      <td>0</td>\n",
       "      <td>M25.6</td>\n",
       "      <td>1</td>\n",
       "      <td>93.35</td>\n",
       "    </tr>\n",
       "    <tr>\n",
       "      <th>4</th>\n",
       "      <td>998994</td>\n",
       "      <td>1289</td>\n",
       "      <td>17</td>\n",
       "      <td>A</td>\n",
       "      <td>37</td>\n",
       "      <td>P</td>\n",
       "      <td>1.0</td>\n",
       "      <td>2019-02-11T17:00:00.000Z</td>\n",
       "      <td>2019-02-11T17:00:00.000Z</td>\n",
       "      <td>2</td>\n",
       "      <td>...</td>\n",
       "      <td>3</td>\n",
       "      <td>None</td>\n",
       "      <td>None</td>\n",
       "      <td>None</td>\n",
       "      <td>None</td>\n",
       "      <td>None</td>\n",
       "      <td>0</td>\n",
       "      <td>J45.9</td>\n",
       "      <td>1</td>\n",
       "      <td>93.94</td>\n",
       "    </tr>\n",
       "    <tr>\n",
       "      <th>...</th>\n",
       "      <td>...</td>\n",
       "      <td>...</td>\n",
       "      <td>...</td>\n",
       "      <td>...</td>\n",
       "      <td>...</td>\n",
       "      <td>...</td>\n",
       "      <td>...</td>\n",
       "      <td>...</td>\n",
       "      <td>...</td>\n",
       "      <td>...</td>\n",
       "      <td>...</td>\n",
       "      <td>...</td>\n",
       "      <td>...</td>\n",
       "      <td>...</td>\n",
       "      <td>...</td>\n",
       "      <td>...</td>\n",
       "      <td>...</td>\n",
       "      <td>...</td>\n",
       "      <td>...</td>\n",
       "      <td>...</td>\n",
       "      <td>...</td>\n",
       "    </tr>\n",
       "    <tr>\n",
       "      <th>6079751</th>\n",
       "      <td>6682407</td>\n",
       "      <td>8501791</td>\n",
       "      <td>112</td>\n",
       "      <td>SC</td>\n",
       "      <td>0</td>\n",
       "      <td>L</td>\n",
       "      <td>4.0</td>\n",
       "      <td>2020-12-01T17:00:00.000Z</td>\n",
       "      <td>2020-12-01T17:00:00.000Z</td>\n",
       "      <td>2</td>\n",
       "      <td>...</td>\n",
       "      <td>3</td>\n",
       "      <td>None</td>\n",
       "      <td>None</td>\n",
       "      <td>None</td>\n",
       "      <td>None</td>\n",
       "      <td>None</td>\n",
       "      <td>0</td>\n",
       "      <td>Z09.8</td>\n",
       "      <td>2</td>\n",
       "      <td>99.41</td>\n",
       "    </tr>\n",
       "    <tr>\n",
       "      <th>6079752</th>\n",
       "      <td>1471971</td>\n",
       "      <td>8511455</td>\n",
       "      <td>113</td>\n",
       "      <td>KI</td>\n",
       "      <td>0</td>\n",
       "      <td>P</td>\n",
       "      <td>4.0</td>\n",
       "      <td>2020-12-13T17:00:00.000Z</td>\n",
       "      <td>2020-12-13T17:00:00.000Z</td>\n",
       "      <td>2</td>\n",
       "      <td>...</td>\n",
       "      <td>3</td>\n",
       "      <td>None</td>\n",
       "      <td>None</td>\n",
       "      <td>None</td>\n",
       "      <td>None</td>\n",
       "      <td>None</td>\n",
       "      <td>0</td>\n",
       "      <td>P59.9</td>\n",
       "      <td>1</td>\n",
       "      <td>90.59</td>\n",
       "    </tr>\n",
       "    <tr>\n",
       "      <th>6079753</th>\n",
       "      <td>1985554</td>\n",
       "      <td>8511674</td>\n",
       "      <td>122</td>\n",
       "      <td>C</td>\n",
       "      <td>22</td>\n",
       "      <td>P</td>\n",
       "      <td>4.0</td>\n",
       "      <td>2020-12-29T17:00:00.000Z</td>\n",
       "      <td>2020-12-29T17:00:00.000Z</td>\n",
       "      <td>2</td>\n",
       "      <td>...</td>\n",
       "      <td>3</td>\n",
       "      <td>None</td>\n",
       "      <td>None</td>\n",
       "      <td>None</td>\n",
       "      <td>None</td>\n",
       "      <td>None</td>\n",
       "      <td>0</td>\n",
       "      <td>D24</td>\n",
       "      <td>1</td>\n",
       "      <td>88.73</td>\n",
       "    </tr>\n",
       "    <tr>\n",
       "      <th>6079754</th>\n",
       "      <td>9796437</td>\n",
       "      <td>8511721</td>\n",
       "      <td>265</td>\n",
       "      <td>B</td>\n",
       "      <td>0</td>\n",
       "      <td>L</td>\n",
       "      <td>1.0</td>\n",
       "      <td>2020-12-28T17:00:00.000Z</td>\n",
       "      <td>2020-12-28T17:00:00.000Z</td>\n",
       "      <td>2</td>\n",
       "      <td>...</td>\n",
       "      <td>3</td>\n",
       "      <td>None</td>\n",
       "      <td>None</td>\n",
       "      <td>None</td>\n",
       "      <td>None</td>\n",
       "      <td>None</td>\n",
       "      <td>0</td>\n",
       "      <td>Q21.1</td>\n",
       "      <td>1</td>\n",
       "      <td>88.72</td>\n",
       "    </tr>\n",
       "    <tr>\n",
       "      <th>6079755</th>\n",
       "      <td>5635918</td>\n",
       "      <td>8523018</td>\n",
       "      <td>62</td>\n",
       "      <td>C</td>\n",
       "      <td>0</td>\n",
       "      <td>L</td>\n",
       "      <td>4.0</td>\n",
       "      <td>2020-12-23T17:00:00.000Z</td>\n",
       "      <td>2020-12-23T17:00:00.000Z</td>\n",
       "      <td>2</td>\n",
       "      <td>...</td>\n",
       "      <td>3</td>\n",
       "      <td>None</td>\n",
       "      <td>None</td>\n",
       "      <td>None</td>\n",
       "      <td>None</td>\n",
       "      <td>None</td>\n",
       "      <td>0</td>\n",
       "      <td>P22.9</td>\n",
       "      <td>1</td>\n",
       "      <td>99.6</td>\n",
       "    </tr>\n",
       "  </tbody>\n",
       "</table>\n",
       "<p>6079756 rows × 25 columns</p>\n",
       "</div>"
      ],
      "text/plain": [
       "              id  id_peserta  dati2 typefaskes  usia jenkel  pisat  \\\n",
       "0         143197         736     17         KI    46      P    1.0   \n",
       "1        1057379         751     17          B    60      L    1.0   \n",
       "2        1052148        1123     17          B    15      L    4.0   \n",
       "3        1052148        1123     17          B    15      L    4.0   \n",
       "4         998994        1289     17          A    37      P    1.0   \n",
       "...          ...         ...    ...        ...   ...    ...    ...   \n",
       "6079751  6682407     8501791    112         SC     0      L    4.0   \n",
       "6079752  1471971     8511455    113         KI     0      P    4.0   \n",
       "6079753  1985554     8511674    122          C    22      P    4.0   \n",
       "6079754  9796437     8511721    265          B     0      L    1.0   \n",
       "6079755  5635918     8523018     62          C     0      L    4.0   \n",
       "\n",
       "                        tgldatang                 tglpulang  jenispel  ...  \\\n",
       "0        2020-04-19T17:00:00.000Z  2020-04-19T17:00:00.000Z         2  ...   \n",
       "1        2019-10-08T17:00:00.000Z  2019-10-08T17:00:00.000Z         2  ...   \n",
       "2        2019-04-11T17:00:00.000Z  2019-04-11T17:00:00.000Z         2  ...   \n",
       "3        2019-04-11T17:00:00.000Z  2019-04-11T17:00:00.000Z         2  ...   \n",
       "4        2019-02-11T17:00:00.000Z  2019-02-11T17:00:00.000Z         2  ...   \n",
       "...                           ...                       ...       ...  ...   \n",
       "6079751  2020-12-01T17:00:00.000Z  2020-12-01T17:00:00.000Z         2  ...   \n",
       "6079752  2020-12-13T17:00:00.000Z  2020-12-13T17:00:00.000Z         2  ...   \n",
       "6079753  2020-12-29T17:00:00.000Z  2020-12-29T17:00:00.000Z         2  ...   \n",
       "6079754  2020-12-28T17:00:00.000Z  2020-12-28T17:00:00.000Z         2  ...   \n",
       "6079755  2020-12-23T17:00:00.000Z  2020-12-23T17:00:00.000Z         2  ...   \n",
       "\n",
       "        kelasrawat  kdsa  kdsp  kdsr  kdsi  kdsd label   diag levelid   proc  \n",
       "0                3  None  None  None  None  None     0  A09.9       1  99.18  \n",
       "1                3  None  None  None  None  None     0  K04.1       1  87.12  \n",
       "2                3  None  None  None  None  None     0  M25.6       1  93.34  \n",
       "3                3  None  None  None  None  None     0  M25.6       1  93.35  \n",
       "4                3  None  None  None  None  None     0  J45.9       1  93.94  \n",
       "...            ...   ...   ...   ...   ...   ...   ...    ...     ...    ...  \n",
       "6079751          3  None  None  None  None  None     0  Z09.8       2  99.41  \n",
       "6079752          3  None  None  None  None  None     0  P59.9       1  90.59  \n",
       "6079753          3  None  None  None  None  None     0    D24       1  88.73  \n",
       "6079754          3  None  None  None  None  None     0  Q21.1       1  88.72  \n",
       "6079755          3  None  None  None  None  None     0  P22.9       1   99.6  \n",
       "\n",
       "[6079756 rows x 25 columns]"
      ]
     },
     "execution_count": 3,
     "metadata": {},
     "output_type": "execute_result"
    }
   ],
   "source": [
    "df"
   ]
  },
  {
   "cell_type": "code",
   "execution_count": 4,
   "id": "1718037c",
   "metadata": {},
   "outputs": [],
   "source": [
    "df.drop(['diag', 'levelid', 'proc'], axis=1, inplace=True)"
   ]
  },
  {
   "cell_type": "code",
   "execution_count": 5,
   "id": "c2d84d1a",
   "metadata": {},
   "outputs": [
    {
     "data": {
      "text/html": [
       "<div>\n",
       "<style scoped>\n",
       "    .dataframe tbody tr th:only-of-type {\n",
       "        vertical-align: middle;\n",
       "    }\n",
       "\n",
       "    .dataframe tbody tr th {\n",
       "        vertical-align: top;\n",
       "    }\n",
       "\n",
       "    .dataframe thead th {\n",
       "        text-align: right;\n",
       "    }\n",
       "</style>\n",
       "<table border=\"1\" class=\"dataframe\">\n",
       "  <thead>\n",
       "    <tr style=\"text-align: right;\">\n",
       "      <th></th>\n",
       "      <th>id</th>\n",
       "      <th>id_peserta</th>\n",
       "      <th>dati2</th>\n",
       "      <th>typefaskes</th>\n",
       "      <th>usia</th>\n",
       "      <th>jenkel</th>\n",
       "      <th>pisat</th>\n",
       "      <th>tgldatang</th>\n",
       "      <th>tglpulang</th>\n",
       "      <th>jenispel</th>\n",
       "      <th>...</th>\n",
       "      <th>biaya</th>\n",
       "      <th>jenispulang</th>\n",
       "      <th>cbg</th>\n",
       "      <th>kelasrawat</th>\n",
       "      <th>kdsa</th>\n",
       "      <th>kdsp</th>\n",
       "      <th>kdsr</th>\n",
       "      <th>kdsi</th>\n",
       "      <th>kdsd</th>\n",
       "      <th>label</th>\n",
       "    </tr>\n",
       "  </thead>\n",
       "  <tbody>\n",
       "    <tr>\n",
       "      <th>0</th>\n",
       "      <td>143197</td>\n",
       "      <td>736</td>\n",
       "      <td>17</td>\n",
       "      <td>KI</td>\n",
       "      <td>46</td>\n",
       "      <td>P</td>\n",
       "      <td>1.0</td>\n",
       "      <td>2020-04-19T17:00:00.000Z</td>\n",
       "      <td>2020-04-19T17:00:00.000Z</td>\n",
       "      <td>2</td>\n",
       "      <td>...</td>\n",
       "      <td>186800.0</td>\n",
       "      <td>1.0</td>\n",
       "      <td>Q-5-42-0</td>\n",
       "      <td>3</td>\n",
       "      <td>None</td>\n",
       "      <td>None</td>\n",
       "      <td>None</td>\n",
       "      <td>None</td>\n",
       "      <td>None</td>\n",
       "      <td>0</td>\n",
       "    </tr>\n",
       "    <tr>\n",
       "      <th>1</th>\n",
       "      <td>1057379</td>\n",
       "      <td>751</td>\n",
       "      <td>17</td>\n",
       "      <td>B</td>\n",
       "      <td>60</td>\n",
       "      <td>L</td>\n",
       "      <td>1.0</td>\n",
       "      <td>2019-10-08T17:00:00.000Z</td>\n",
       "      <td>2019-10-08T17:00:00.000Z</td>\n",
       "      <td>2</td>\n",
       "      <td>...</td>\n",
       "      <td>211400.0</td>\n",
       "      <td>1.0</td>\n",
       "      <td>Q-5-12-0</td>\n",
       "      <td>3</td>\n",
       "      <td>None</td>\n",
       "      <td>None</td>\n",
       "      <td>None</td>\n",
       "      <td>None</td>\n",
       "      <td>None</td>\n",
       "      <td>0</td>\n",
       "    </tr>\n",
       "    <tr>\n",
       "      <th>2</th>\n",
       "      <td>1052148</td>\n",
       "      <td>1123</td>\n",
       "      <td>17</td>\n",
       "      <td>B</td>\n",
       "      <td>15</td>\n",
       "      <td>L</td>\n",
       "      <td>4.0</td>\n",
       "      <td>2019-04-11T17:00:00.000Z</td>\n",
       "      <td>2019-04-11T17:00:00.000Z</td>\n",
       "      <td>2</td>\n",
       "      <td>...</td>\n",
       "      <td>114400.0</td>\n",
       "      <td>1.0</td>\n",
       "      <td>M-3-16-0</td>\n",
       "      <td>3</td>\n",
       "      <td>None</td>\n",
       "      <td>None</td>\n",
       "      <td>None</td>\n",
       "      <td>None</td>\n",
       "      <td>None</td>\n",
       "      <td>0</td>\n",
       "    </tr>\n",
       "    <tr>\n",
       "      <th>3</th>\n",
       "      <td>1052148</td>\n",
       "      <td>1123</td>\n",
       "      <td>17</td>\n",
       "      <td>B</td>\n",
       "      <td>15</td>\n",
       "      <td>L</td>\n",
       "      <td>4.0</td>\n",
       "      <td>2019-04-11T17:00:00.000Z</td>\n",
       "      <td>2019-04-11T17:00:00.000Z</td>\n",
       "      <td>2</td>\n",
       "      <td>...</td>\n",
       "      <td>114400.0</td>\n",
       "      <td>1.0</td>\n",
       "      <td>M-3-16-0</td>\n",
       "      <td>3</td>\n",
       "      <td>None</td>\n",
       "      <td>None</td>\n",
       "      <td>None</td>\n",
       "      <td>None</td>\n",
       "      <td>None</td>\n",
       "      <td>0</td>\n",
       "    </tr>\n",
       "    <tr>\n",
       "      <th>4</th>\n",
       "      <td>998994</td>\n",
       "      <td>1289</td>\n",
       "      <td>17</td>\n",
       "      <td>A</td>\n",
       "      <td>37</td>\n",
       "      <td>P</td>\n",
       "      <td>1.0</td>\n",
       "      <td>2019-02-11T17:00:00.000Z</td>\n",
       "      <td>2019-02-11T17:00:00.000Z</td>\n",
       "      <td>2</td>\n",
       "      <td>...</td>\n",
       "      <td>479000.0</td>\n",
       "      <td>1.0</td>\n",
       "      <td>J-3-13-0</td>\n",
       "      <td>3</td>\n",
       "      <td>None</td>\n",
       "      <td>None</td>\n",
       "      <td>None</td>\n",
       "      <td>None</td>\n",
       "      <td>None</td>\n",
       "      <td>0</td>\n",
       "    </tr>\n",
       "    <tr>\n",
       "      <th>...</th>\n",
       "      <td>...</td>\n",
       "      <td>...</td>\n",
       "      <td>...</td>\n",
       "      <td>...</td>\n",
       "      <td>...</td>\n",
       "      <td>...</td>\n",
       "      <td>...</td>\n",
       "      <td>...</td>\n",
       "      <td>...</td>\n",
       "      <td>...</td>\n",
       "      <td>...</td>\n",
       "      <td>...</td>\n",
       "      <td>...</td>\n",
       "      <td>...</td>\n",
       "      <td>...</td>\n",
       "      <td>...</td>\n",
       "      <td>...</td>\n",
       "      <td>...</td>\n",
       "      <td>...</td>\n",
       "      <td>...</td>\n",
       "      <td>...</td>\n",
       "    </tr>\n",
       "    <tr>\n",
       "      <th>6079751</th>\n",
       "      <td>6682407</td>\n",
       "      <td>8501791</td>\n",
       "      <td>112</td>\n",
       "      <td>SC</td>\n",
       "      <td>0</td>\n",
       "      <td>L</td>\n",
       "      <td>4.0</td>\n",
       "      <td>2020-12-01T17:00:00.000Z</td>\n",
       "      <td>2020-12-01T17:00:00.000Z</td>\n",
       "      <td>2</td>\n",
       "      <td>...</td>\n",
       "      <td>308800.0</td>\n",
       "      <td>1.0</td>\n",
       "      <td>P-9-17-0</td>\n",
       "      <td>3</td>\n",
       "      <td>None</td>\n",
       "      <td>None</td>\n",
       "      <td>None</td>\n",
       "      <td>None</td>\n",
       "      <td>None</td>\n",
       "      <td>0</td>\n",
       "    </tr>\n",
       "    <tr>\n",
       "      <th>6079752</th>\n",
       "      <td>1471971</td>\n",
       "      <td>8511455</td>\n",
       "      <td>113</td>\n",
       "      <td>KI</td>\n",
       "      <td>0</td>\n",
       "      <td>P</td>\n",
       "      <td>4.0</td>\n",
       "      <td>2020-12-13T17:00:00.000Z</td>\n",
       "      <td>2020-12-13T17:00:00.000Z</td>\n",
       "      <td>2</td>\n",
       "      <td>...</td>\n",
       "      <td>312000.0</td>\n",
       "      <td>1.0</td>\n",
       "      <td>P-9-17-0</td>\n",
       "      <td>3</td>\n",
       "      <td>None</td>\n",
       "      <td>None</td>\n",
       "      <td>None</td>\n",
       "      <td>None</td>\n",
       "      <td>None</td>\n",
       "      <td>0</td>\n",
       "    </tr>\n",
       "    <tr>\n",
       "      <th>6079753</th>\n",
       "      <td>1985554</td>\n",
       "      <td>8511674</td>\n",
       "      <td>122</td>\n",
       "      <td>C</td>\n",
       "      <td>22</td>\n",
       "      <td>P</td>\n",
       "      <td>4.0</td>\n",
       "      <td>2020-12-29T17:00:00.000Z</td>\n",
       "      <td>2020-12-29T17:00:00.000Z</td>\n",
       "      <td>2</td>\n",
       "      <td>...</td>\n",
       "      <td>549400.0</td>\n",
       "      <td>1.0</td>\n",
       "      <td>Z-3-23-0</td>\n",
       "      <td>3</td>\n",
       "      <td>None</td>\n",
       "      <td>None</td>\n",
       "      <td>None</td>\n",
       "      <td>None</td>\n",
       "      <td>None</td>\n",
       "      <td>0</td>\n",
       "    </tr>\n",
       "    <tr>\n",
       "      <th>6079754</th>\n",
       "      <td>9796437</td>\n",
       "      <td>8511721</td>\n",
       "      <td>265</td>\n",
       "      <td>B</td>\n",
       "      <td>0</td>\n",
       "      <td>L</td>\n",
       "      <td>1.0</td>\n",
       "      <td>2020-12-28T17:00:00.000Z</td>\n",
       "      <td>2020-12-28T17:00:00.000Z</td>\n",
       "      <td>2</td>\n",
       "      <td>...</td>\n",
       "      <td>339100.0</td>\n",
       "      <td>5.0</td>\n",
       "      <td>I-3-13-0</td>\n",
       "      <td>3</td>\n",
       "      <td>None</td>\n",
       "      <td>None</td>\n",
       "      <td>None</td>\n",
       "      <td>None</td>\n",
       "      <td>None</td>\n",
       "      <td>0</td>\n",
       "    </tr>\n",
       "    <tr>\n",
       "      <th>6079755</th>\n",
       "      <td>5635918</td>\n",
       "      <td>8523018</td>\n",
       "      <td>62</td>\n",
       "      <td>C</td>\n",
       "      <td>0</td>\n",
       "      <td>L</td>\n",
       "      <td>4.0</td>\n",
       "      <td>2020-12-23T17:00:00.000Z</td>\n",
       "      <td>2020-12-23T17:00:00.000Z</td>\n",
       "      <td>2</td>\n",
       "      <td>...</td>\n",
       "      <td>296700.0</td>\n",
       "      <td>4.0</td>\n",
       "      <td>P-9-17-0</td>\n",
       "      <td>3</td>\n",
       "      <td>None</td>\n",
       "      <td>None</td>\n",
       "      <td>None</td>\n",
       "      <td>None</td>\n",
       "      <td>None</td>\n",
       "      <td>0</td>\n",
       "    </tr>\n",
       "  </tbody>\n",
       "</table>\n",
       "<p>6079756 rows × 22 columns</p>\n",
       "</div>"
      ],
      "text/plain": [
       "              id  id_peserta  dati2 typefaskes  usia jenkel  pisat  \\\n",
       "0         143197         736     17         KI    46      P    1.0   \n",
       "1        1057379         751     17          B    60      L    1.0   \n",
       "2        1052148        1123     17          B    15      L    4.0   \n",
       "3        1052148        1123     17          B    15      L    4.0   \n",
       "4         998994        1289     17          A    37      P    1.0   \n",
       "...          ...         ...    ...        ...   ...    ...    ...   \n",
       "6079751  6682407     8501791    112         SC     0      L    4.0   \n",
       "6079752  1471971     8511455    113         KI     0      P    4.0   \n",
       "6079753  1985554     8511674    122          C    22      P    4.0   \n",
       "6079754  9796437     8511721    265          B     0      L    1.0   \n",
       "6079755  5635918     8523018     62          C     0      L    4.0   \n",
       "\n",
       "                        tgldatang                 tglpulang  jenispel  ...  \\\n",
       "0        2020-04-19T17:00:00.000Z  2020-04-19T17:00:00.000Z         2  ...   \n",
       "1        2019-10-08T17:00:00.000Z  2019-10-08T17:00:00.000Z         2  ...   \n",
       "2        2019-04-11T17:00:00.000Z  2019-04-11T17:00:00.000Z         2  ...   \n",
       "3        2019-04-11T17:00:00.000Z  2019-04-11T17:00:00.000Z         2  ...   \n",
       "4        2019-02-11T17:00:00.000Z  2019-02-11T17:00:00.000Z         2  ...   \n",
       "...                           ...                       ...       ...  ...   \n",
       "6079751  2020-12-01T17:00:00.000Z  2020-12-01T17:00:00.000Z         2  ...   \n",
       "6079752  2020-12-13T17:00:00.000Z  2020-12-13T17:00:00.000Z         2  ...   \n",
       "6079753  2020-12-29T17:00:00.000Z  2020-12-29T17:00:00.000Z         2  ...   \n",
       "6079754  2020-12-28T17:00:00.000Z  2020-12-28T17:00:00.000Z         2  ...   \n",
       "6079755  2020-12-23T17:00:00.000Z  2020-12-23T17:00:00.000Z         2  ...   \n",
       "\n",
       "            biaya jenispulang       cbg  kelasrawat  kdsa  kdsp  kdsr  kdsi  \\\n",
       "0        186800.0         1.0  Q-5-42-0           3  None  None  None  None   \n",
       "1        211400.0         1.0  Q-5-12-0           3  None  None  None  None   \n",
       "2        114400.0         1.0  M-3-16-0           3  None  None  None  None   \n",
       "3        114400.0         1.0  M-3-16-0           3  None  None  None  None   \n",
       "4        479000.0         1.0  J-3-13-0           3  None  None  None  None   \n",
       "...           ...         ...       ...         ...   ...   ...   ...   ...   \n",
       "6079751  308800.0         1.0  P-9-17-0           3  None  None  None  None   \n",
       "6079752  312000.0         1.0  P-9-17-0           3  None  None  None  None   \n",
       "6079753  549400.0         1.0  Z-3-23-0           3  None  None  None  None   \n",
       "6079754  339100.0         5.0  I-3-13-0           3  None  None  None  None   \n",
       "6079755  296700.0         4.0  P-9-17-0           3  None  None  None  None   \n",
       "\n",
       "         kdsd label  \n",
       "0        None     0  \n",
       "1        None     0  \n",
       "2        None     0  \n",
       "3        None     0  \n",
       "4        None     0  \n",
       "...       ...   ...  \n",
       "6079751  None     0  \n",
       "6079752  None     0  \n",
       "6079753  None     0  \n",
       "6079754  None     0  \n",
       "6079755  None     0  \n",
       "\n",
       "[6079756 rows x 22 columns]"
      ]
     },
     "execution_count": 5,
     "metadata": {},
     "output_type": "execute_result"
    }
   ],
   "source": [
    "df"
   ]
  },
  {
   "cell_type": "code",
   "execution_count": 7,
   "id": "3482bacb",
   "metadata": {},
   "outputs": [
    {
     "name": "stdout",
     "output_type": "stream",
     "text": [
      "<class 'pandas.core.frame.DataFrame'>\n",
      "RangeIndex: 6079756 entries, 0 to 6079755\n",
      "Data columns (total 22 columns):\n",
      " #   Column       Dtype  \n",
      "---  ------       -----  \n",
      " 0   id           int64  \n",
      " 1   id_peserta   int64  \n",
      " 2   dati2        int64  \n",
      " 3   typefaskes   object \n",
      " 4   usia         int64  \n",
      " 5   jenkel       object \n",
      " 6   pisat        float64\n",
      " 7   tgldatang    object \n",
      " 8   tglpulang    object \n",
      " 9   jenispel     int64  \n",
      " 10  politujuan   object \n",
      " 11  diagfktp     object \n",
      " 12  biaya        float64\n",
      " 13  jenispulang  float64\n",
      " 14  cbg          object \n",
      " 15  kelasrawat   int64  \n",
      " 16  kdsa         object \n",
      " 17  kdsp         object \n",
      " 18  kdsr         object \n",
      " 19  kdsi         object \n",
      " 20  kdsd         object \n",
      " 21  label        int64  \n",
      "dtypes: float64(3), int64(7), object(12)\n",
      "memory usage: 1020.5+ MB\n"
     ]
    }
   ],
   "source": [
    "df.info()"
   ]
  },
  {
   "cell_type": "code",
   "execution_count": 6,
   "id": "f9381d3a",
   "metadata": {},
   "outputs": [
    {
     "data": {
      "text/plain": [
       "id             0\n",
       "id_peserta     0\n",
       "dati2          0\n",
       "typefaskes     0\n",
       "usia           0\n",
       "jenkel         0\n",
       "pisat          0\n",
       "tgldatang      0\n",
       "tglpulang      0\n",
       "jenispel       0\n",
       "politujuan     0\n",
       "diagfktp       0\n",
       "biaya          0\n",
       "jenispulang    0\n",
       "cbg            0\n",
       "kelasrawat     0\n",
       "kdsa           0\n",
       "kdsp           0\n",
       "kdsr           0\n",
       "kdsi           0\n",
       "kdsd           0\n",
       "label          0\n",
       "dtype: int64"
      ]
     },
     "execution_count": 6,
     "metadata": {},
     "output_type": "execute_result"
    }
   ],
   "source": [
    "df.isnull().sum()"
   ]
  },
  {
   "cell_type": "code",
   "execution_count": 8,
   "id": "144e04f4",
   "metadata": {},
   "outputs": [
    {
     "data": {
      "text/html": [
       "<div>\n",
       "<style scoped>\n",
       "    .dataframe tbody tr th:only-of-type {\n",
       "        vertical-align: middle;\n",
       "    }\n",
       "\n",
       "    .dataframe tbody tr th {\n",
       "        vertical-align: top;\n",
       "    }\n",
       "\n",
       "    .dataframe thead th {\n",
       "        text-align: right;\n",
       "    }\n",
       "</style>\n",
       "<table border=\"1\" class=\"dataframe\">\n",
       "  <thead>\n",
       "    <tr style=\"text-align: right;\">\n",
       "      <th></th>\n",
       "      <th>id</th>\n",
       "      <th>id_peserta</th>\n",
       "      <th>dati2</th>\n",
       "      <th>usia</th>\n",
       "      <th>pisat</th>\n",
       "      <th>jenispel</th>\n",
       "      <th>biaya</th>\n",
       "      <th>jenispulang</th>\n",
       "      <th>kelasrawat</th>\n",
       "      <th>label</th>\n",
       "    </tr>\n",
       "  </thead>\n",
       "  <tbody>\n",
       "    <tr>\n",
       "      <th>count</th>\n",
       "      <td>6.079756e+06</td>\n",
       "      <td>6.079756e+06</td>\n",
       "      <td>6.079756e+06</td>\n",
       "      <td>6.079756e+06</td>\n",
       "      <td>6.079756e+06</td>\n",
       "      <td>6.079756e+06</td>\n",
       "      <td>6.079756e+06</td>\n",
       "      <td>6.079756e+06</td>\n",
       "      <td>6.079756e+06</td>\n",
       "      <td>6.079756e+06</td>\n",
       "    </tr>\n",
       "    <tr>\n",
       "      <th>mean</th>\n",
       "      <td>6.088424e+06</td>\n",
       "      <td>3.866074e+06</td>\n",
       "      <td>1.978788e+02</td>\n",
       "      <td>4.224623e+01</td>\n",
       "      <td>2.299647e+00</td>\n",
       "      <td>1.999831e+00</td>\n",
       "      <td>4.850735e+05</td>\n",
       "      <td>1.087351e+00</td>\n",
       "      <td>2.999923e+00</td>\n",
       "      <td>9.926550e-03</td>\n",
       "    </tr>\n",
       "    <tr>\n",
       "      <th>std</th>\n",
       "      <td>3.332723e+06</td>\n",
       "      <td>2.304139e+06</td>\n",
       "      <td>1.072924e+02</td>\n",
       "      <td>2.137111e+01</td>\n",
       "      <td>1.351493e+00</td>\n",
       "      <td>1.299587e-02</td>\n",
       "      <td>1.069972e+06</td>\n",
       "      <td>5.113343e-01</td>\n",
       "      <td>1.095740e-02</td>\n",
       "      <td>9.913635e-02</td>\n",
       "    </tr>\n",
       "    <tr>\n",
       "      <th>min</th>\n",
       "      <td>3.000000e+00</td>\n",
       "      <td>4.000000e+00</td>\n",
       "      <td>1.000000e+00</td>\n",
       "      <td>0.000000e+00</td>\n",
       "      <td>1.000000e+00</td>\n",
       "      <td>1.000000e+00</td>\n",
       "      <td>0.000000e+00</td>\n",
       "      <td>1.000000e+00</td>\n",
       "      <td>1.000000e+00</td>\n",
       "      <td>0.000000e+00</td>\n",
       "    </tr>\n",
       "    <tr>\n",
       "      <th>25%</th>\n",
       "      <td>3.273246e+06</td>\n",
       "      <td>1.938019e+06</td>\n",
       "      <td>1.160000e+02</td>\n",
       "      <td>2.600000e+01</td>\n",
       "      <td>1.000000e+00</td>\n",
       "      <td>2.000000e+00</td>\n",
       "      <td>1.855000e+05</td>\n",
       "      <td>1.000000e+00</td>\n",
       "      <td>3.000000e+00</td>\n",
       "      <td>0.000000e+00</td>\n",
       "    </tr>\n",
       "    <tr>\n",
       "      <th>50%</th>\n",
       "      <td>5.967012e+06</td>\n",
       "      <td>3.813608e+06</td>\n",
       "      <td>1.790000e+02</td>\n",
       "      <td>4.600000e+01</td>\n",
       "      <td>2.000000e+00</td>\n",
       "      <td>2.000000e+00</td>\n",
       "      <td>2.395000e+05</td>\n",
       "      <td>1.000000e+00</td>\n",
       "      <td>3.000000e+00</td>\n",
       "      <td>0.000000e+00</td>\n",
       "    </tr>\n",
       "    <tr>\n",
       "      <th>75%</th>\n",
       "      <td>9.213115e+06</td>\n",
       "      <td>5.747278e+06</td>\n",
       "      <td>2.800000e+02</td>\n",
       "      <td>5.900000e+01</td>\n",
       "      <td>4.000000e+00</td>\n",
       "      <td>2.000000e+00</td>\n",
       "      <td>3.361000e+05</td>\n",
       "      <td>1.000000e+00</td>\n",
       "      <td>3.000000e+00</td>\n",
       "      <td>0.000000e+00</td>\n",
       "    </tr>\n",
       "    <tr>\n",
       "      <th>max</th>\n",
       "      <td>1.142695e+07</td>\n",
       "      <td>8.526742e+06</td>\n",
       "      <td>5.280000e+02</td>\n",
       "      <td>1.100000e+02</td>\n",
       "      <td>5.000000e+00</td>\n",
       "      <td>2.000000e+00</td>\n",
       "      <td>4.507980e+07</td>\n",
       "      <td>5.000000e+00</td>\n",
       "      <td>3.000000e+00</td>\n",
       "      <td>1.000000e+00</td>\n",
       "    </tr>\n",
       "  </tbody>\n",
       "</table>\n",
       "</div>"
      ],
      "text/plain": [
       "                 id    id_peserta         dati2          usia         pisat  \\\n",
       "count  6.079756e+06  6.079756e+06  6.079756e+06  6.079756e+06  6.079756e+06   \n",
       "mean   6.088424e+06  3.866074e+06  1.978788e+02  4.224623e+01  2.299647e+00   \n",
       "std    3.332723e+06  2.304139e+06  1.072924e+02  2.137111e+01  1.351493e+00   \n",
       "min    3.000000e+00  4.000000e+00  1.000000e+00  0.000000e+00  1.000000e+00   \n",
       "25%    3.273246e+06  1.938019e+06  1.160000e+02  2.600000e+01  1.000000e+00   \n",
       "50%    5.967012e+06  3.813608e+06  1.790000e+02  4.600000e+01  2.000000e+00   \n",
       "75%    9.213115e+06  5.747278e+06  2.800000e+02  5.900000e+01  4.000000e+00   \n",
       "max    1.142695e+07  8.526742e+06  5.280000e+02  1.100000e+02  5.000000e+00   \n",
       "\n",
       "           jenispel         biaya   jenispulang    kelasrawat         label  \n",
       "count  6.079756e+06  6.079756e+06  6.079756e+06  6.079756e+06  6.079756e+06  \n",
       "mean   1.999831e+00  4.850735e+05  1.087351e+00  2.999923e+00  9.926550e-03  \n",
       "std    1.299587e-02  1.069972e+06  5.113343e-01  1.095740e-02  9.913635e-02  \n",
       "min    1.000000e+00  0.000000e+00  1.000000e+00  1.000000e+00  0.000000e+00  \n",
       "25%    2.000000e+00  1.855000e+05  1.000000e+00  3.000000e+00  0.000000e+00  \n",
       "50%    2.000000e+00  2.395000e+05  1.000000e+00  3.000000e+00  0.000000e+00  \n",
       "75%    2.000000e+00  3.361000e+05  1.000000e+00  3.000000e+00  0.000000e+00  \n",
       "max    2.000000e+00  4.507980e+07  5.000000e+00  3.000000e+00  1.000000e+00  "
      ]
     },
     "execution_count": 8,
     "metadata": {},
     "output_type": "execute_result"
    }
   ],
   "source": [
    "df.describe()"
   ]
  },
  {
   "cell_type": "code",
   "execution_count": 9,
   "id": "bb389196",
   "metadata": {},
   "outputs": [],
   "source": [
    "def detect_outliers(df, x):\n",
    "    Q1 = df[x].describe()['25%']\n",
    "    Q3 = df[x].describe()['75%']\n",
    "    IQR = Q3-Q1\n",
    "    return df[(df[x] < Q1-1.5*IQR) | (df[x] > Q3+1.5*IQR)]"
   ]
  },
  {
   "cell_type": "code",
   "execution_count": 18,
   "id": "18996c3b",
   "metadata": {},
   "outputs": [],
   "source": [
    "from sklearn.preprocessing import LabelEncoder\n",
    "label_encoder = LabelEncoder()"
   ]
  },
  {
   "cell_type": "code",
   "execution_count": 19,
   "id": "5263536a",
   "metadata": {},
   "outputs": [],
   "source": [
    "df['typefaskes'] = label_encoder.fit_transform(df['typefaskes'])"
   ]
  },
  {
   "cell_type": "code",
   "execution_count": 20,
   "id": "47412118",
   "metadata": {},
   "outputs": [],
   "source": [
    "df['jenkel'] = label_encoder.fit_transform(df['jenkel'])"
   ]
  },
  {
   "cell_type": "code",
   "execution_count": 22,
   "id": "bd9526ec",
   "metadata": {},
   "outputs": [],
   "source": [
    "df['tgldatang'] = label_encoder.fit_transform(df['tgldatang'])"
   ]
  },
  {
   "cell_type": "code",
   "execution_count": 23,
   "id": "ba035fa4",
   "metadata": {},
   "outputs": [],
   "source": [
    "df['tglpulang'] = label_encoder.fit_transform(df['tglpulang'])"
   ]
  },
  {
   "cell_type": "code",
   "execution_count": 24,
   "id": "b407b289",
   "metadata": {},
   "outputs": [],
   "source": [
    "df['politujuan'] = label_encoder.fit_transform(df['politujuan'])"
   ]
  },
  {
   "cell_type": "code",
   "execution_count": 25,
   "id": "9a73173a",
   "metadata": {},
   "outputs": [],
   "source": [
    "df['diagfktp'] = label_encoder.fit_transform(df['diagfktp'])"
   ]
  },
  {
   "cell_type": "code",
   "execution_count": 26,
   "id": "2132901c",
   "metadata": {},
   "outputs": [],
   "source": [
    "df['kdsa'] = label_encoder.fit_transform(df['kdsa'])\n",
    "df['kdsp'] = label_encoder.fit_transform(df['kdsp'])\n",
    "df['kdsr'] = label_encoder.fit_transform(df['kdsr'])\n",
    "df['kdsi'] = label_encoder.fit_transform(df['kdsi'])\n",
    "df['kdsd'] = label_encoder.fit_transform(df['kdsd'])"
   ]
  },
  {
   "cell_type": "code",
   "execution_count": 45,
   "id": "b30bc22e",
   "metadata": {},
   "outputs": [],
   "source": [
    "df['cbg'] = label_encoder.fit_transform(df['cbg'])"
   ]
  },
  {
   "cell_type": "code",
   "execution_count": 48,
   "id": "f3af546e",
   "metadata": {},
   "outputs": [
    {
     "name": "stdout",
     "output_type": "stream",
     "text": [
      "<class 'pandas.core.frame.DataFrame'>\n",
      "Int64Index: 6079700 entries, 0 to 6079755\n",
      "Data columns (total 22 columns):\n",
      " #   Column       Dtype  \n",
      "---  ------       -----  \n",
      " 0   id           int64  \n",
      " 1   id_peserta   int64  \n",
      " 2   dati2        int64  \n",
      " 3   typefaskes   int32  \n",
      " 4   usia         int64  \n",
      " 5   jenkel       int32  \n",
      " 6   pisat        float64\n",
      " 7   tgldatang    int32  \n",
      " 8   tglpulang    int32  \n",
      " 9   jenispel     int64  \n",
      " 10  politujuan   int32  \n",
      " 11  diagfktp     int32  \n",
      " 12  biaya        float64\n",
      " 13  jenispulang  float64\n",
      " 14  cbg          int32  \n",
      " 15  kelasrawat   int64  \n",
      " 16  kdsa         int32  \n",
      " 17  kdsp         int32  \n",
      " 18  kdsr         int32  \n",
      " 19  kdsi         int32  \n",
      " 20  kdsd         int32  \n",
      " 21  label        int64  \n",
      "dtypes: float64(3), int32(12), int64(7)\n",
      "memory usage: 917.5 MB\n"
     ]
    }
   ],
   "source": [
    "df.info()"
   ]
  },
  {
   "cell_type": "code",
   "execution_count": 49,
   "id": "076177b1",
   "metadata": {},
   "outputs": [
    {
     "data": {
      "text/plain": [
       "<AxesSubplot:ylabel='label'>"
      ]
     },
     "execution_count": 49,
     "metadata": {},
     "output_type": "execute_result"
    },
    {
     "data": {
      "image/png": "[encoded data removed]",
      "text/plain": [
       "<Figure size 432x288 with 1 Axes>"
      ]
     },
     "metadata": {},
     "output_type": "display_data"
    }
   ],
   "source": [
    "df['label'].value_counts().plot.pie(autopct='%1.1f%%', shadow=True)"
   ]
  },
  {
   "cell_type": "code",
   "execution_count": 50,
   "id": "b85e5fe3",
   "metadata": {},
   "outputs": [
    {
     "data": {
      "text/plain": [
       "0    6019358\n",
       "1      60342\n",
       "Name: label, dtype: int64"
      ]
     },
     "execution_count": 50,
     "metadata": {},
     "output_type": "execute_result"
    }
   ],
   "source": [
    "df['label'].value_counts()"
   ]
  },
  {
   "cell_type": "code",
   "execution_count": 51,
   "id": "3daf49ec",
   "metadata": {},
   "outputs": [],
   "source": [
    "df_sub = df.sample(frac=0.5)"
   ]
  },
  {
   "cell_type": "code",
   "execution_count": 52,
   "id": "c2894cb1",
   "metadata": {},
   "outputs": [
    {
     "data": {
      "text/plain": [
       "(3039850, 22)"
      ]
     },
     "execution_count": 52,
     "metadata": {},
     "output_type": "execute_result"
    }
   ],
   "source": [
    "df_sub.shape"
   ]
  },
  {
   "cell_type": "code",
   "execution_count": 53,
   "id": "b7499a0c",
   "metadata": {},
   "outputs": [
    {
     "data": {
      "text/plain": [
       "0    3009751\n",
       "1      30099\n",
       "Name: label, dtype: int64"
      ]
     },
     "execution_count": 53,
     "metadata": {},
     "output_type": "execute_result"
    }
   ],
   "source": [
    "df_sub['label'].value_counts()"
   ]
  },
  {
   "cell_type": "code",
   "execution_count": 54,
   "id": "2b82a907",
   "metadata": {},
   "outputs": [],
   "source": [
    "X = df_sub.drop(['label'], axis=1)"
   ]
  },
  {
   "cell_type": "code",
   "execution_count": 55,
   "id": "aec2d964",
   "metadata": {},
   "outputs": [],
   "source": [
    "y = df_sub['label']"
   ]
  },
  {
   "cell_type": "code",
   "execution_count": 56,
   "id": "7b4308af",
   "metadata": {},
   "outputs": [
    {
     "name": "stdout",
     "output_type": "stream",
     "text": [
      "<class 'pandas.core.frame.DataFrame'>\n",
      "Int64Index: 3039850 entries, 3833541 to 3785400\n",
      "Data columns (total 21 columns):\n",
      " #   Column       Dtype  \n",
      "---  ------       -----  \n",
      " 0   id           int64  \n",
      " 1   id_peserta   int64  \n",
      " 2   dati2        int64  \n",
      " 3   typefaskes   int32  \n",
      " 4   usia         int64  \n",
      " 5   jenkel       int32  \n",
      " 6   pisat        float64\n",
      " 7   tgldatang    int32  \n",
      " 8   tglpulang    int32  \n",
      " 9   jenispel     int64  \n",
      " 10  politujuan   int32  \n",
      " 11  diagfktp     int32  \n",
      " 12  biaya        float64\n",
      " 13  jenispulang  float64\n",
      " 14  cbg          int32  \n",
      " 15  kelasrawat   int64  \n",
      " 16  kdsa         int32  \n",
      " 17  kdsp         int32  \n",
      " 18  kdsr         int32  \n",
      " 19  kdsi         int32  \n",
      " 20  kdsd         int32  \n",
      "dtypes: float64(3), int32(12), int64(6)\n",
      "memory usage: 371.1 MB\n"
     ]
    }
   ],
   "source": [
    "X.info()"
   ]
  },
  {
   "cell_type": "code",
   "execution_count": 57,
   "id": "74319302",
   "metadata": {},
   "outputs": [
    {
     "name": "stdout",
     "output_type": "stream",
     "text": [
      "<class 'pandas.core.series.Series'>\n",
      "Int64Index: 3039850 entries, 3833541 to 3785400\n",
      "Series name: label\n",
      "Non-Null Count    Dtype\n",
      "--------------    -----\n",
      "3039850 non-null  int64\n",
      "dtypes: int64(1)\n",
      "memory usage: 46.4 MB\n"
     ]
    }
   ],
   "source": [
    "y.info()"
   ]
  },
  {
   "cell_type": "code",
   "execution_count": 58,
   "id": "7c29fe30",
   "metadata": {},
   "outputs": [],
   "source": [
    "from imblearn.over_sampling import SMOTE\n",
    "\n",
    "smote = SMOTE(random_state=2)\n",
    "X_sm, y_sm = smote.fit_resample(X, y)"
   ]
  },
  {
   "cell_type": "code",
   "execution_count": 59,
   "id": "45798746",
   "metadata": {},
   "outputs": [
    {
     "data": {
      "text/plain": [
       "<AxesSubplot:ylabel='label'>"
      ]
     },
     "execution_count": 59,
     "metadata": {},
     "output_type": "execute_result"
    },
    {
     "data": {
      "image/png": "[encoded data removed]",
      "text/plain": [
       "<Figure size 432x288 with 1 Axes>"
      ]
     },
     "metadata": {},
     "output_type": "display_data"
    }
   ],
   "source": [
    "y_sm.value_counts().plot.pie(autopct='%1.1f%%', shadow=True)"
   ]
  },
  {
   "cell_type": "code",
   "execution_count": 60,
   "id": "efbc3979",
   "metadata": {},
   "outputs": [
    {
     "data": {
      "text/plain": [
       "0    3009751\n",
       "1    3009751\n",
       "Name: label, dtype: int64"
      ]
     },
     "execution_count": 60,
     "metadata": {},
     "output_type": "execute_result"
    }
   ],
   "source": [
    "y_sm.value_counts()"
   ]
  },
  {
   "cell_type": "code",
   "execution_count": 65,
   "id": "5d30eaa7",
   "metadata": {},
   "outputs": [],
   "source": [
    "from sklearn.model_selection import train_test_split\n",
    "X_train1, X_test1, y_train1, y_test1 = train_test_split(X, y, test_size=0.2, random_state=1, stratify=y)"
   ]
  },
  {
   "cell_type": "code",
   "execution_count": 66,
   "id": "a41043a2",
   "metadata": {},
   "outputs": [
    {
     "data": {
      "text/html": [
       "<style>#sk-container-id-1 {color: black;background-color: white;}#sk-container-id-1 pre{padding: 0;}#sk-container-id-1 div.sk-toggleable {background-color: white;}#sk-container-id-1 label.sk-toggleable__label {cursor: pointer;display: block;width: 100%;margin-bottom: 0;padding: 0.3em;box-sizing: border-box;text-align: center;}#sk-container-id-1 label.sk-toggleable__label-arrow:before {content: \"▸\";float: left;margin-right: 0.25em;color: #696969;}#sk-container-id-1 label.sk-toggleable__label-arrow:hover:before {color: black;}#sk-container-id-1 div.sk-estimator:hover label.sk-toggleable__label-arrow:before {color: black;}#sk-container-id-1 div.sk-toggleable__content {max-height: 0;max-width: 0;overflow: hidden;text-align: left;background-color: #f0f8ff;}#sk-container-id-1 div.sk-toggleable__content pre {margin: 0.2em;color: black;border-radius: 0.25em;background-color: #f0f8ff;}#sk-container-id-1 input.sk-toggleable__control:checked~div.sk-toggleable__content {max-height: 200px;max-width: 100%;overflow: auto;}#sk-container-id-1 input.sk-toggleable__control:checked~label.sk-toggleable__label-arrow:before {content: \"▾\";}#sk-container-id-1 div.sk-estimator input.sk-toggleable__control:checked~label.sk-toggleable__label {background-color: #d4ebff;}#sk-container-id-1 div.sk-label input.sk-toggleable__control:checked~label.sk-toggleable__label {background-color: #d4ebff;}#sk-container-id-1 input.sk-hidden--visually {border: 0;clip: rect(1px 1px 1px 1px);clip: rect(1px, 1px, 1px, 1px);height: 1px;margin: -1px;overflow: hidden;padding: 0;position: absolute;width: 1px;}#sk-container-id-1 div.sk-estimator {font-family: monospace;background-color: #f0f8ff;border: 1px dotted black;border-radius: 0.25em;box-sizing: border-box;margin-bottom: 0.5em;}#sk-container-id-1 div.sk-estimator:hover {background-color: #d4ebff;}#sk-container-id-1 div.sk-parallel-item::after {content: \"\";width: 100%;border-bottom: 1px solid gray;flex-grow: 1;}#sk-container-id-1 div.sk-label:hover label.sk-toggleable__label {background-color: #d4ebff;}#sk-container-id-1 div.sk-serial::before {content: \"\";position: absolute;border-left: 1px solid gray;box-sizing: border-box;top: 0;bottom: 0;left: 50%;z-index: 0;}#sk-container-id-1 div.sk-serial {display: flex;flex-direction: column;align-items: center;background-color: white;padding-right: 0.2em;padding-left: 0.2em;position: relative;}#sk-container-id-1 div.sk-item {position: relative;z-index: 1;}#sk-container-id-1 div.sk-parallel {display: flex;align-items: stretch;justify-content: center;background-color: white;position: relative;}#sk-container-id-1 div.sk-item::before, #sk-container-id-1 div.sk-parallel-item::before {content: \"\";position: absolute;border-left: 1px solid gray;box-sizing: border-box;top: 0;bottom: 0;left: 50%;z-index: -1;}#sk-container-id-1 div.sk-parallel-item {display: flex;flex-direction: column;z-index: 1;position: relative;background-color: white;}#sk-container-id-1 div.sk-parallel-item:first-child::after {align-self: flex-end;width: 50%;}#sk-container-id-1 div.sk-parallel-item:last-child::after {align-self: flex-start;width: 50%;}#sk-container-id-1 div.sk-parallel-item:only-child::after {width: 0;}#sk-container-id-1 div.sk-dashed-wrapped {border: 1px dashed gray;margin: 0 0.4em 0.5em 0.4em;box-sizing: border-box;padding-bottom: 0.4em;background-color: white;}#sk-container-id-1 div.sk-label label {font-family: monospace;font-weight: bold;display: inline-block;line-height: 1.2em;}#sk-container-id-1 div.sk-label-container {text-align: center;}#sk-container-id-1 div.sk-container {/* jupyter's `normalize.less` sets `[hidden] { display: none; }` but bootstrap.min.css set `[hidden] { display: none !important; }` so we also need the `!important` here to be able to override the default hidden behavior on the sphinx rendered scikit-learn.org. See: https://github.com/scikit-learn/scikit-learn/issues/21755 */display: inline-block !important;position: relative;}#sk-container-id-1 div.sk-text-repr-fallback {display: none;}</style><div id=\"sk-container-id-1\" class=\"sk-top-container\"><div class=\"sk-text-repr-fallback\"><pre>XGBClassifier(base_score=0.5, booster=&#x27;gbtree&#x27;, callbacks=None,\n",
       "              colsample_bylevel=1, colsample_bynode=1, colsample_bytree=1,\n",
       "              early_stopping_rounds=None, enable_categorical=False,\n",
       "              eval_metric=None, gamma=0, gpu_id=-1, grow_policy=&#x27;depthwise&#x27;,\n",
       "              importance_type=None, interaction_constraints=&#x27;&#x27;,\n",
       "              learning_rate=0.300000012, max_bin=256, max_cat_to_onehot=4,\n",
       "              max_delta_step=0, max_depth=6, max_leaves=0, min_child_weight=1,\n",
       "              missing=nan, monotone_constraints=&#x27;()&#x27;, n_estimators=100,\n",
       "              n_jobs=0, num_parallel_tree=1, predictor=&#x27;auto&#x27;, random_state=0,\n",
       "              reg_alpha=0, reg_lambda=1, ...)</pre><b>In a Jupyter environment, please rerun this cell to show the HTML representation or trust the notebook. <br />On GitHub, the HTML representation is unable to render, please try loading this page with nbviewer.org.</b></div><div class=\"sk-container\" hidden><div class=\"sk-item\"><div class=\"sk-estimator sk-toggleable\"><input class=\"sk-toggleable__control sk-hidden--visually\" id=\"sk-estimator-id-1\" type=\"checkbox\" checked><label for=\"sk-estimator-id-1\" class=\"sk-toggleable__label sk-toggleable__label-arrow\">XGBClassifier</label><div class=\"sk-toggleable__content\"><pre>XGBClassifier(base_score=0.5, booster=&#x27;gbtree&#x27;, callbacks=None,\n",
       "              colsample_bylevel=1, colsample_bynode=1, colsample_bytree=1,\n",
       "              early_stopping_rounds=None, enable_categorical=False,\n",
       "              eval_metric=None, gamma=0, gpu_id=-1, grow_policy=&#x27;depthwise&#x27;,\n",
       "              importance_type=None, interaction_constraints=&#x27;&#x27;,\n",
       "              learning_rate=0.300000012, max_bin=256, max_cat_to_onehot=4,\n",
       "              max_delta_step=0, max_depth=6, max_leaves=0, min_child_weight=1,\n",
       "              missing=nan, monotone_constraints=&#x27;()&#x27;, n_estimators=100,\n",
       "              n_jobs=0, num_parallel_tree=1, predictor=&#x27;auto&#x27;, random_state=0,\n",
       "              reg_alpha=0, reg_lambda=1, ...)</pre></div></div></div></div></div>"
      ],
      "text/plain": [
       "XGBClassifier(base_score=0.5, booster='gbtree', callbacks=None,\n",
       "              colsample_bylevel=1, colsample_bynode=1, colsample_bytree=1,\n",
       "              early_stopping_rounds=None, enable_categorical=False,\n",
       "              eval_metric=None, gamma=0, gpu_id=-1, grow_policy='depthwise',\n",
       "              importance_type=None, interaction_constraints='',\n",
       "              learning_rate=0.300000012, max_bin=256, max_cat_to_onehot=4,\n",
       "              max_delta_step=0, max_depth=6, max_leaves=0, min_child_weight=1,\n",
       "              missing=nan, monotone_constraints='()', n_estimators=100,\n",
       "              n_jobs=0, num_parallel_tree=1, predictor='auto', random_state=0,\n",
       "              reg_alpha=0, reg_lambda=1, ...)"
      ]
     },
     "execution_count": 66,
     "metadata": {},
     "output_type": "execute_result"
    }
   ],
   "source": [
    "from xgboost import XGBClassifier\n",
    "model1 = XGBClassifier()\n",
    "model1.fit(X_train1, y_train1)"
   ]
  },
  {
   "cell_type": "code",
   "execution_count": 68,
   "id": "986e1faa",
   "metadata": {},
   "outputs": [],
   "source": [
    "y_predict1 = model1.predict(X_test1)"
   ]
  },
  {
   "cell_type": "code",
   "execution_count": 69,
   "id": "27dc1fd4",
   "metadata": {},
   "outputs": [
    {
     "name": "stdout",
     "output_type": "stream",
     "text": [
      "Accuracy: 99.35%\n"
     ]
    }
   ],
   "source": [
    "from sklearn.metrics import accuracy_score\n",
    "accuracy1 = accuracy_score(y_test1, y_predict1)\n",
    "print(\"Accuracy: %.2f%%\" % (accuracy1 * 100.0))"
   ]
  },
  {
   "cell_type": "code",
   "execution_count": 70,
   "id": "0ae17aaf",
   "metadata": {},
   "outputs": [
    {
     "name": "stdout",
     "output_type": "stream",
     "text": [
      "Precision: 92.97%\n"
     ]
    }
   ],
   "source": [
    "from sklearn.metrics import precision_score\n",
    "precision1 = precision_score(y_test1, y_predict1)\n",
    "print(\"Precision: %.2f%%\" % (precision1 * 100.0))"
   ]
  },
  {
   "cell_type": "code",
   "execution_count": 71,
   "id": "de35e9ad",
   "metadata": {},
   "outputs": [
    {
     "name": "stdout",
     "output_type": "stream",
     "text": [
      "Recall: 37.34%\n"
     ]
    }
   ],
   "source": [
    "from sklearn.metrics import recall_score\n",
    "recall1 = recall_score(y_test1, y_predict1)\n",
    "print(\"Recall: %.2f%%\" % (recall1 * 100.0))"
   ]
  },
  {
   "cell_type": "code",
   "execution_count": 72,
   "id": "594dfe33",
   "metadata": {},
   "outputs": [
    {
     "name": "stdout",
     "output_type": "stream",
     "text": [
      "F1: 53.28%\n"
     ]
    }
   ],
   "source": [
    "from sklearn.metrics import f1_score\n",
    "f1_1 = f1_score(y_test1, y_predict1)\n",
    "print(\"F1: %.2f%%\" % (f1_1 * 100.0))"
   ]
  },
  {
   "cell_type": "code",
   "execution_count": 73,
   "id": "312759a0",
   "metadata": {},
   "outputs": [],
   "source": [
    "X_sub = pd.read_csv('X_submission.csv')"
   ]
  },
  {
   "cell_type": "code",
   "execution_count": 74,
   "id": "a6172bfa",
   "metadata": {},
   "outputs": [],
   "source": [
    "y_sub = pd.read_csv('y_submission.csv')"
   ]
  },
  {
   "cell_type": "code",
   "execution_count": 75,
   "id": "4e3ad136",
   "metadata": {},
   "outputs": [],
   "source": [
    "X_sub['pisat'] = X_sub['pisat'].fillna(X_sub['pisat'].mean())"
   ]
  },
  {
   "cell_type": "code",
   "execution_count": 76,
   "id": "40c80384",
   "metadata": {},
   "outputs": [],
   "source": [
    "X_sub['biaya'] = X_sub['biaya'].fillna(X_sub['biaya'].mean())"
   ]
  },
  {
   "cell_type": "code",
   "execution_count": 77,
   "id": "3d63599e",
   "metadata": {},
   "outputs": [],
   "source": [
    "X_sub['jenispulang'] = X_sub['jenispulang'].fillna(X_sub['jenispulang'].mean())"
   ]
  },
  {
   "cell_type": "code",
   "execution_count": 79,
   "id": "04cf76bb",
   "metadata": {},
   "outputs": [
    {
     "name": "stdout",
     "output_type": "stream",
     "text": [
      "<class 'pandas.core.frame.DataFrame'>\n",
      "RangeIndex: 11401882 entries, 0 to 11401881\n",
      "Data columns (total 21 columns):\n",
      " #   Column       Dtype  \n",
      "---  ------       -----  \n",
      " 0   id           int64  \n",
      " 1   id_peserta   int64  \n",
      " 2   dati2        int64  \n",
      " 3   typefaskes   int64  \n",
      " 4   usia         int64  \n",
      " 5   jenkel       int64  \n",
      " 6   pisat        float64\n",
      " 7   tgldatang    int64  \n",
      " 8   tglpulang    int64  \n",
      " 9   jenispel     int64  \n",
      " 10  politujuan   int64  \n",
      " 11  diagfktp     int64  \n",
      " 12  biaya        float64\n",
      " 13  jenispulang  float64\n",
      " 14  cbg          int64  \n",
      " 15  kelasrawat   int64  \n",
      " 16  kdsa         int64  \n",
      " 17  kdsp         int64  \n",
      " 18  kdsr         int64  \n",
      " 19  kdsi         int64  \n",
      " 20  kdsd         int64  \n",
      "dtypes: float64(3), int64(18)\n",
      "memory usage: 1.8 GB\n"
     ]
    }
   ],
   "source": [
    "X_sub.info()"
   ]
  },
  {
   "cell_type": "code",
   "execution_count": 80,
   "id": "ed8b4511",
   "metadata": {},
   "outputs": [],
   "source": [
    "y_predict_sub = model1.predict(X_sub)"
   ]
  },
  {
   "cell_type": "code",
   "execution_count": 84,
   "id": "95bf034c",
   "metadata": {},
   "outputs": [
    {
     "name": "stdout",
     "output_type": "stream",
     "text": [
      "Accuracy: 98.259%\n"
     ]
    }
   ],
   "source": [
    "from sklearn.metrics import accuracy_score\n",
    "accuracy_sub = accuracy_score(y_sub, y_predict_sub)\n",
    "print(\"Accuracy: %.3f%%\" % (accuracy_sub * 100.0))"
   ]
  },
  {
   "cell_type": "code",
   "execution_count": 85,
   "id": "2ad288d4",
   "metadata": {},
   "outputs": [
    {
     "name": "stdout",
     "output_type": "stream",
     "text": [
      "Precision: 11.967%\n"
     ]
    }
   ],
   "source": [
    "from sklearn.metrics import precision_score\n",
    "precision_sub = precision_score(y_sub, y_predict_sub)\n",
    "print(\"Precision: %.3f%%\" % (precision_sub * 100.0))"
   ]
  },
  {
   "cell_type": "code",
   "execution_count": 86,
   "id": "00113c31",
   "metadata": {},
   "outputs": [
    {
     "name": "stdout",
     "output_type": "stream",
     "text": [
      "Recall: 4.169%\n"
     ]
    }
   ],
   "source": [
    "from sklearn.metrics import recall_score\n",
    "recall_sub = recall_score(y_sub, y_predict_sub)\n",
    "print(\"Recall: %.3f%%\" % (recall_sub * 100.0))"
   ]
  },
  {
   "cell_type": "code",
   "execution_count": 87,
   "id": "1250c1e9",
   "metadata": {},
   "outputs": [
    {
     "name": "stdout",
     "output_type": "stream",
     "text": [
      "F1: 6.183%\n"
     ]
    }
   ],
   "source": [
    "from sklearn.metrics import f1_score\n",
    "f1_sub = f1_score(y_sub, y_predict_sub)\n",
    "print(\"F1: %.3f%%\" % (f1_sub * 100.0))"
   ]
  },
  {
   "cell_type": "code",
   "execution_count": 96,
   "id": "63694218",
   "metadata": {},
   "outputs": [],
   "source": [
    "id = pd.DataFrame(X_sub['id'])"
   ]
  },
  {
   "cell_type": "code",
   "execution_count": 109,
   "id": "0a24fb75",
   "metadata": {},
   "outputs": [
    {
     "name": "stdout",
     "output_type": "stream",
     "text": [
      "<class 'pandas.core.frame.DataFrame'>\n",
      "RangeIndex: 11401882 entries, 0 to 11401881\n",
      "Data columns (total 1 columns):\n",
      " #   Column  Dtype\n",
      "---  ------  -----\n",
      " 0   id      int64\n",
      "dtypes: int64(1)\n",
      "memory usage: 87.0 MB\n"
     ]
    }
   ],
   "source": [
    "id.info()"
   ]
  },
  {
   "cell_type": "code",
   "execution_count": 107,
   "id": "80020032",
   "metadata": {},
   "outputs": [],
   "source": [
    "label = pd.DataFrame(y_predict_sub)"
   ]
  },
  {
   "cell_type": "code",
   "execution_count": 110,
   "id": "631c8293",
   "metadata": {},
   "outputs": [
    {
     "name": "stdout",
     "output_type": "stream",
     "text": [
      "<class 'pandas.core.frame.DataFrame'>\n",
      "RangeIndex: 11401882 entries, 0 to 11401881\n",
      "Data columns (total 1 columns):\n",
      " #   Column  Dtype\n",
      "---  ------  -----\n",
      " 0   0       int32\n",
      "dtypes: int32(1)\n",
      "memory usage: 43.5 MB\n"
     ]
    }
   ],
   "source": [
    "label.info()"
   ]
  },
  {
   "cell_type": "code",
   "execution_count": 112,
   "id": "794e6ae4",
   "metadata": {},
   "outputs": [],
   "source": [
    "answer = id.join(label)"
   ]
  },
  {
   "cell_type": "code",
   "execution_count": 127,
   "id": "50c705ea",
   "metadata": {},
   "outputs": [
    {
     "name": "stdout",
     "output_type": "stream",
     "text": [
      "<class 'pandas.core.frame.DataFrame'>\n",
      "RangeIndex: 11401882 entries, 0 to 11401881\n",
      "Data columns (total 2 columns):\n",
      " #   Column  Dtype\n",
      "---  ------  -----\n",
      " 0   id      int64\n",
      " 1   label   int32\n",
      "dtypes: int32(1), int64(1)\n",
      "memory usage: 130.5 MB\n"
     ]
    }
   ],
   "source": [
    "answer.info()"
   ]
  },
  {
   "cell_type": "code",
   "execution_count": 125,
   "id": "3bf8069d",
   "metadata": {},
   "outputs": [],
   "source": [
    "answer = answer.rename(columns={0: 'label'})"
   ]
  },
  {
   "cell_type": "code",
   "execution_count": 128,
   "id": "f702edfd",
   "metadata": {},
   "outputs": [
    {
     "data": {
      "text/html": [
       "<div>\n",
       "<style scoped>\n",
       "    .dataframe tbody tr th:only-of-type {\n",
       "        vertical-align: middle;\n",
       "    }\n",
       "\n",
       "    .dataframe tbody tr th {\n",
       "        vertical-align: top;\n",
       "    }\n",
       "\n",
       "    .dataframe thead th {\n",
       "        text-align: right;\n",
       "    }\n",
       "</style>\n",
       "<table border=\"1\" class=\"dataframe\">\n",
       "  <thead>\n",
       "    <tr style=\"text-align: right;\">\n",
       "      <th></th>\n",
       "      <th>id</th>\n",
       "      <th>label</th>\n",
       "    </tr>\n",
       "  </thead>\n",
       "  <tbody>\n",
       "    <tr>\n",
       "      <th>0</th>\n",
       "      <td>165666</td>\n",
       "      <td>0</td>\n",
       "    </tr>\n",
       "    <tr>\n",
       "      <th>1</th>\n",
       "      <td>1010828</td>\n",
       "      <td>0</td>\n",
       "    </tr>\n",
       "    <tr>\n",
       "      <th>2</th>\n",
       "      <td>166042</td>\n",
       "      <td>0</td>\n",
       "    </tr>\n",
       "    <tr>\n",
       "      <th>3</th>\n",
       "      <td>168937</td>\n",
       "      <td>0</td>\n",
       "    </tr>\n",
       "    <tr>\n",
       "      <th>4</th>\n",
       "      <td>1005899</td>\n",
       "      <td>0</td>\n",
       "    </tr>\n",
       "    <tr>\n",
       "      <th>...</th>\n",
       "      <td>...</td>\n",
       "      <td>...</td>\n",
       "    </tr>\n",
       "    <tr>\n",
       "      <th>11401877</th>\n",
       "      <td>9983563</td>\n",
       "      <td>0</td>\n",
       "    </tr>\n",
       "    <tr>\n",
       "      <th>11401878</th>\n",
       "      <td>11053870</td>\n",
       "      <td>0</td>\n",
       "    </tr>\n",
       "    <tr>\n",
       "      <th>11401879</th>\n",
       "      <td>7461049</td>\n",
       "      <td>0</td>\n",
       "    </tr>\n",
       "    <tr>\n",
       "      <th>11401880</th>\n",
       "      <td>1075162</td>\n",
       "      <td>0</td>\n",
       "    </tr>\n",
       "    <tr>\n",
       "      <th>11401881</th>\n",
       "      <td>102794</td>\n",
       "      <td>0</td>\n",
       "    </tr>\n",
       "  </tbody>\n",
       "</table>\n",
       "<p>11401882 rows × 2 columns</p>\n",
       "</div>"
      ],
      "text/plain": [
       "                id  label\n",
       "0           165666      0\n",
       "1          1010828      0\n",
       "2           166042      0\n",
       "3           168937      0\n",
       "4          1005899      0\n",
       "...            ...    ...\n",
       "11401877   9983563      0\n",
       "11401878  11053870      0\n",
       "11401879   7461049      0\n",
       "11401880   1075162      0\n",
       "11401881    102794      0\n",
       "\n",
       "[11401882 rows x 2 columns]"
      ]
     },
     "execution_count": 128,
     "metadata": {},
     "output_type": "execute_result"
    }
   ],
   "source": [
    "answer"
   ]
  },
  {
   "cell_type": "code",
   "execution_count": 129,
   "id": "fb1d642c",
   "metadata": {},
   "outputs": [],
   "source": [
    "answer.to_csv('answer.csv', index=False)"
   ]
  }
 ],
 "metadata": {
  "kernelspec": {
   "display_name": "Python 3 (ipykernel)",
   "language": "python",
   "name": "python3"
  },
  "language_info": {
   "codemirror_mode": {
    "name": "ipython",
    "version": 3
   },
   "file_extension": ".py",
   "mimetype": "text/x-python",
   "name": "python",
   "nbconvert_exporter": "python",
   "pygments_lexer": "ipython3",
   "version": "3.10.6"
  }
 },
 "nbformat": 4,
 "nbformat_minor": 5
}
